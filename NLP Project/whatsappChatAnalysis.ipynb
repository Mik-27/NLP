{
  "nbformat": 4,
  "nbformat_minor": 0,
  "metadata": {
    "colab": {
      "name": "whatsappAnalyzer.ipynb",
      "provenance": [],
      "collapsed_sections": [],
      "include_colab_link": true
    },
    "kernelspec": {
      "name": "python3",
      "display_name": "Python 3"
    },
    "language_info": {
      "name": "python"
    }
  },
  "cells": [
    {
      "cell_type": "markdown",
      "metadata": {
        "id": "view-in-github",
        "colab_type": "text"
      },
      "source": [
        "<a href=\"https://colab.research.google.com/github/Mik-27/NLP-Coursework/blob/main/NLP%20Project/whatsappChatAnalysis.ipynb\" target=\"_parent\"><img src=\"https://colab.research.google.com/assets/colab-badge.svg\" alt=\"Open In Colab\"/></a>"
      ]
    },
    {
      "cell_type": "markdown",
      "source": [
        "\n",
        "\n",
        "# WhatsApp Chat Analysis"
      ],
      "metadata": {
        "id": "8pE4uDO3V9P1"
      }
    },
    {
      "cell_type": "code",
      "execution_count": 1,
      "metadata": {
        "colab": {
          "base_uri": "https://localhost:8080/"
        },
        "id": "98cCA3sLVVGB",
        "outputId": "c8f0553e-5f97-47f4-b71f-dbaa3c79d6d5"
      },
      "outputs": [
        {
          "output_type": "stream",
          "name": "stdout",
          "text": [
            "Collecting emoji\n",
            "  Downloading emoji-1.7.0.tar.gz (175 kB)\n",
            "\u001b[?25l\r\u001b[K     |█▉                              | 10 kB 17.7 MB/s eta 0:00:01\r\u001b[K     |███▊                            | 20 kB 7.5 MB/s eta 0:00:01\r\u001b[K     |█████▋                          | 30 kB 4.5 MB/s eta 0:00:01\r\u001b[K     |███████▌                        | 40 kB 4.1 MB/s eta 0:00:01\r\u001b[K     |█████████▍                      | 51 kB 3.5 MB/s eta 0:00:01\r\u001b[K     |███████████▏                    | 61 kB 4.2 MB/s eta 0:00:01\r\u001b[K     |█████████████                   | 71 kB 4.3 MB/s eta 0:00:01\r\u001b[K     |███████████████                 | 81 kB 4.2 MB/s eta 0:00:01\r\u001b[K     |████████████████▉               | 92 kB 4.7 MB/s eta 0:00:01\r\u001b[K     |██████████████████▊             | 102 kB 4.8 MB/s eta 0:00:01\r\u001b[K     |████████████████████▌           | 112 kB 4.8 MB/s eta 0:00:01\r\u001b[K     |██████████████████████▍         | 122 kB 4.8 MB/s eta 0:00:01\r\u001b[K     |████████████████████████▎       | 133 kB 4.8 MB/s eta 0:00:01\r\u001b[K     |██████████████████████████▏     | 143 kB 4.8 MB/s eta 0:00:01\r\u001b[K     |████████████████████████████    | 153 kB 4.8 MB/s eta 0:00:01\r\u001b[K     |█████████████████████████████▉  | 163 kB 4.8 MB/s eta 0:00:01\r\u001b[K     |███████████████████████████████▊| 174 kB 4.8 MB/s eta 0:00:01\r\u001b[K     |████████████████████████████████| 175 kB 4.8 MB/s \n",
            "\u001b[?25hBuilding wheels for collected packages: emoji\n",
            "  Building wheel for emoji (setup.py) ... \u001b[?25l\u001b[?25hdone\n",
            "  Created wheel for emoji: filename=emoji-1.7.0-py3-none-any.whl size=171046 sha256=816f2eabf1bab18a27f8626b1b057028eaa11d3cb01b007479bc0d9b39873243\n",
            "  Stored in directory: /root/.cache/pip/wheels/8a/4e/b6/57b01db010d17ef6ea9b40300af725ef3e210cb1acfb7ac8b6\n",
            "Successfully built emoji\n",
            "Installing collected packages: emoji\n",
            "Successfully installed emoji-1.7.0\n"
          ]
        }
      ],
      "source": [
        "!pip install emoji\n"
      ]
    },
    {
      "cell_type": "code",
      "source": [
        "import re\n",
        "import pandas as pd\n",
        "import numpy as np\n",
        "import matplotlib.pyplot as plt\n",
        "import seaborn as sns\n",
        "from datetime import *\n",
        "import datetime as dt\n",
        "from matplotlib.ticker import MaxNLocator\n",
        "import regex\n",
        "import emoji\n",
        "from seaborn import *\n",
        "#from heatmap import heatmap\n",
        "from wordcloud import WordCloud , STOPWORDS , ImageColorGenerator\n",
        "from nltk import *\n",
        "from plotly import express as px"
      ],
      "metadata": {
        "id": "XyKlmZo9YqZp"
      },
      "execution_count": 2,
      "outputs": []
    },
    {
      "cell_type": "code",
      "source": [
        "### Python code to extract Date from chat file \n",
        "\n",
        "def startsWithDateAndTime(s):\n",
        "  pattern = '^([0-9]+)(\\/)([0-9]+)(\\/)([0-9]+), ([0-9]+):([0-9]+)[ ]?(AM|PM|am|pm)? -'\n",
        "  result = re.match(pattern, s)\n",
        "  if result:\n",
        "    return True\n",
        "  return False"
      ],
      "metadata": {
        "id": "TUTkPEmLYuzl"
      },
      "execution_count": 3,
      "outputs": []
    },
    {
      "cell_type": "code",
      "source": [
        "def FindAuthor(s):\n",
        "  s=s.split(\":\")\n",
        "  if len(s)==2:\n",
        "    return True\n",
        "  else:\n",
        "    return False"
      ],
      "metadata": {
        "id": "N4PfQVgdgIc5"
      },
      "execution_count": 4,
      "outputs": []
    },
    {
      "cell_type": "code",
      "source": [
        "### Extracting Date, Time, Author and message from the chat file.\n",
        "def getDataPoint(line):   \n",
        "    splitLine = line.split(' - ') \n",
        "    dateTime = splitLine[0]\n",
        "    date, time = dateTime.split(', ') \n",
        "    message = ' '.join(splitLine[1:])\n",
        "    if FindAuthor(message): \n",
        "        splitMessage = message.split(': ') \n",
        "        author = splitMessage[0] \n",
        "        message = ' '.join(splitMessage[1:])\n",
        "    else:\n",
        "        author = None\n",
        "    return date, time, author, message\n",
        "\n",
        "    \n",
        "\n"
      ],
      "metadata": {
        "id": "0izJJTx2gnmf"
      },
      "execution_count": 5,
      "outputs": []
    },
    {
      "cell_type": "code",
      "source": [
        "### Finally creating a dataframe and storing all data inside that dataframe.\n",
        "parsedData = [] # List to keep track of data so it can be used by a Pandas dataframe\n",
        "### Uploading exported chat file\n",
        "conversationPath = '/content/WC_Proxy.txt';\n",
        "fp=open(conversationPath, encoding=\"utf-8\")\n",
        "fp.readline() \n",
        "messageBuffer = [] \n",
        "date, time, author = None, None, None\n",
        "while True:\n",
        "    line = fp.readline() \n",
        "    if not line: \n",
        "        break\n",
        "    line = line.strip() \n",
        "    if startsWithDateAndTime(line): \n",
        "        if len(messageBuffer) > 0: \n",
        "            parsedData.append([date, time, author, ' '.join(messageBuffer)]) \n",
        "        messageBuffer.clear() \n",
        "        date, time, author, message = getDataPoint(line) \n",
        "        messageBuffer.append(message) \n",
        "    else:\n",
        "        messageBuffer.append(line)\n",
        "df = pd.DataFrame(parsedData, columns=['Date', 'Time', 'Author', 'Message']) # Initialising a pandas Dataframe.\n",
        "### changing datatype of \"Date\" column.\n",
        "df[\"Date\"] = pd.to_datetime(df[\"Date\"])\n",
        "df"
      ],
      "metadata": {
        "colab": {
          "base_uri": "https://localhost:8080/",
          "height": 423
        },
        "id": "vCA4IN5Jgv6S",
        "outputId": "ee3abde0-c481-498b-c0b9-fd1a0df133d6"
      },
      "execution_count": 7,
      "outputs": [
        {
          "output_type": "execute_result",
          "data": {
            "text/plain": [
              "            Date      Time               Author                       Message\n",
              "0     2020-05-12   2:06 pm         Anand Tiwari                           Hey\n",
              "1     2020-05-12   2:07 pm             Vasaikar                         Hello\n",
              "2     2020-05-12   2:15 pm         Anand Tiwari  Mera WhatsApp he ud Gaya tha\n",
              "3     2020-05-12   2:16 pm         Anand Tiwari              Backup b nai tha\n",
              "4     2020-05-12   2:16 pm  Mihir Thakur (VCET)                           Lol\n",
              "...          ...       ...                  ...                           ...\n",
              "19071 2022-04-17  12:18 pm         Anand Tiwari                    fook u too\n",
              "19072 2022-04-17  12:18 pm             Vasaikar                      Fook you\n",
              "19073 2022-04-17   1:00 pm                Parag               <Media omitted>\n",
              "19074 2022-04-17   1:02 pm               Salman               <Media omitted>\n",
              "19075 2022-04-17   1:04 pm                Parag               <Media omitted>\n",
              "\n",
              "[19076 rows x 4 columns]"
            ],
            "text/html": [
              "\n",
              "  <div id=\"df-f32eeb86-395b-49bf-8f7a-7bbafaf15173\">\n",
              "    <div class=\"colab-df-container\">\n",
              "      <div>\n",
              "<style scoped>\n",
              "    .dataframe tbody tr th:only-of-type {\n",
              "        vertical-align: middle;\n",
              "    }\n",
              "\n",
              "    .dataframe tbody tr th {\n",
              "        vertical-align: top;\n",
              "    }\n",
              "\n",
              "    .dataframe thead th {\n",
              "        text-align: right;\n",
              "    }\n",
              "</style>\n",
              "<table border=\"1\" class=\"dataframe\">\n",
              "  <thead>\n",
              "    <tr style=\"text-align: right;\">\n",
              "      <th></th>\n",
              "      <th>Date</th>\n",
              "      <th>Time</th>\n",
              "      <th>Author</th>\n",
              "      <th>Message</th>\n",
              "    </tr>\n",
              "  </thead>\n",
              "  <tbody>\n",
              "    <tr>\n",
              "      <th>0</th>\n",
              "      <td>2020-05-12</td>\n",
              "      <td>2:06 pm</td>\n",
              "      <td>Anand Tiwari</td>\n",
              "      <td>Hey</td>\n",
              "    </tr>\n",
              "    <tr>\n",
              "      <th>1</th>\n",
              "      <td>2020-05-12</td>\n",
              "      <td>2:07 pm</td>\n",
              "      <td>Vasaikar</td>\n",
              "      <td>Hello</td>\n",
              "    </tr>\n",
              "    <tr>\n",
              "      <th>2</th>\n",
              "      <td>2020-05-12</td>\n",
              "      <td>2:15 pm</td>\n",
              "      <td>Anand Tiwari</td>\n",
              "      <td>Mera WhatsApp he ud Gaya tha</td>\n",
              "    </tr>\n",
              "    <tr>\n",
              "      <th>3</th>\n",
              "      <td>2020-05-12</td>\n",
              "      <td>2:16 pm</td>\n",
              "      <td>Anand Tiwari</td>\n",
              "      <td>Backup b nai tha</td>\n",
              "    </tr>\n",
              "    <tr>\n",
              "      <th>4</th>\n",
              "      <td>2020-05-12</td>\n",
              "      <td>2:16 pm</td>\n",
              "      <td>Mihir Thakur (VCET)</td>\n",
              "      <td>Lol</td>\n",
              "    </tr>\n",
              "    <tr>\n",
              "      <th>...</th>\n",
              "      <td>...</td>\n",
              "      <td>...</td>\n",
              "      <td>...</td>\n",
              "      <td>...</td>\n",
              "    </tr>\n",
              "    <tr>\n",
              "      <th>19071</th>\n",
              "      <td>2022-04-17</td>\n",
              "      <td>12:18 pm</td>\n",
              "      <td>Anand Tiwari</td>\n",
              "      <td>fook u too</td>\n",
              "    </tr>\n",
              "    <tr>\n",
              "      <th>19072</th>\n",
              "      <td>2022-04-17</td>\n",
              "      <td>12:18 pm</td>\n",
              "      <td>Vasaikar</td>\n",
              "      <td>Fook you</td>\n",
              "    </tr>\n",
              "    <tr>\n",
              "      <th>19073</th>\n",
              "      <td>2022-04-17</td>\n",
              "      <td>1:00 pm</td>\n",
              "      <td>Parag</td>\n",
              "      <td>&lt;Media omitted&gt;</td>\n",
              "    </tr>\n",
              "    <tr>\n",
              "      <th>19074</th>\n",
              "      <td>2022-04-17</td>\n",
              "      <td>1:02 pm</td>\n",
              "      <td>Salman</td>\n",
              "      <td>&lt;Media omitted&gt;</td>\n",
              "    </tr>\n",
              "    <tr>\n",
              "      <th>19075</th>\n",
              "      <td>2022-04-17</td>\n",
              "      <td>1:04 pm</td>\n",
              "      <td>Parag</td>\n",
              "      <td>&lt;Media omitted&gt;</td>\n",
              "    </tr>\n",
              "  </tbody>\n",
              "</table>\n",
              "<p>19076 rows × 4 columns</p>\n",
              "</div>\n",
              "      <button class=\"colab-df-convert\" onclick=\"convertToInteractive('df-f32eeb86-395b-49bf-8f7a-7bbafaf15173')\"\n",
              "              title=\"Convert this dataframe to an interactive table.\"\n",
              "              style=\"display:none;\">\n",
              "        \n",
              "  <svg xmlns=\"http://www.w3.org/2000/svg\" height=\"24px\"viewBox=\"0 0 24 24\"\n",
              "       width=\"24px\">\n",
              "    <path d=\"M0 0h24v24H0V0z\" fill=\"none\"/>\n",
              "    <path d=\"M18.56 5.44l.94 2.06.94-2.06 2.06-.94-2.06-.94-.94-2.06-.94 2.06-2.06.94zm-11 1L8.5 8.5l.94-2.06 2.06-.94-2.06-.94L8.5 2.5l-.94 2.06-2.06.94zm10 10l.94 2.06.94-2.06 2.06-.94-2.06-.94-.94-2.06-.94 2.06-2.06.94z\"/><path d=\"M17.41 7.96l-1.37-1.37c-.4-.4-.92-.59-1.43-.59-.52 0-1.04.2-1.43.59L10.3 9.45l-7.72 7.72c-.78.78-.78 2.05 0 2.83L4 21.41c.39.39.9.59 1.41.59.51 0 1.02-.2 1.41-.59l7.78-7.78 2.81-2.81c.8-.78.8-2.07 0-2.86zM5.41 20L4 18.59l7.72-7.72 1.47 1.35L5.41 20z\"/>\n",
              "  </svg>\n",
              "      </button>\n",
              "      \n",
              "  <style>\n",
              "    .colab-df-container {\n",
              "      display:flex;\n",
              "      flex-wrap:wrap;\n",
              "      gap: 12px;\n",
              "    }\n",
              "\n",
              "    .colab-df-convert {\n",
              "      background-color: #E8F0FE;\n",
              "      border: none;\n",
              "      border-radius: 50%;\n",
              "      cursor: pointer;\n",
              "      display: none;\n",
              "      fill: #1967D2;\n",
              "      height: 32px;\n",
              "      padding: 0 0 0 0;\n",
              "      width: 32px;\n",
              "    }\n",
              "\n",
              "    .colab-df-convert:hover {\n",
              "      background-color: #E2EBFA;\n",
              "      box-shadow: 0px 1px 2px rgba(60, 64, 67, 0.3), 0px 1px 3px 1px rgba(60, 64, 67, 0.15);\n",
              "      fill: #174EA6;\n",
              "    }\n",
              "\n",
              "    [theme=dark] .colab-df-convert {\n",
              "      background-color: #3B4455;\n",
              "      fill: #D2E3FC;\n",
              "    }\n",
              "\n",
              "    [theme=dark] .colab-df-convert:hover {\n",
              "      background-color: #434B5C;\n",
              "      box-shadow: 0px 1px 3px 1px rgba(0, 0, 0, 0.15);\n",
              "      filter: drop-shadow(0px 1px 2px rgba(0, 0, 0, 0.3));\n",
              "      fill: #FFFFFF;\n",
              "    }\n",
              "  </style>\n",
              "\n",
              "      <script>\n",
              "        const buttonEl =\n",
              "          document.querySelector('#df-f32eeb86-395b-49bf-8f7a-7bbafaf15173 button.colab-df-convert');\n",
              "        buttonEl.style.display =\n",
              "          google.colab.kernel.accessAllowed ? 'block' : 'none';\n",
              "\n",
              "        async function convertToInteractive(key) {\n",
              "          const element = document.querySelector('#df-f32eeb86-395b-49bf-8f7a-7bbafaf15173');\n",
              "          const dataTable =\n",
              "            await google.colab.kernel.invokeFunction('convertToInteractive',\n",
              "                                                     [key], {});\n",
              "          if (!dataTable) return;\n",
              "\n",
              "          const docLinkHtml = 'Like what you see? Visit the ' +\n",
              "            '<a target=\"_blank\" href=https://colab.research.google.com/notebooks/data_table.ipynb>data table notebook</a>'\n",
              "            + ' to learn more about interactive tables.';\n",
              "          element.innerHTML = '';\n",
              "          dataTable['output_type'] = 'display_data';\n",
              "          await google.colab.output.renderOutput(dataTable, element);\n",
              "          const docLink = document.createElement('div');\n",
              "          docLink.innerHTML = docLinkHtml;\n",
              "          element.appendChild(docLink);\n",
              "        }\n",
              "      </script>\n",
              "    </div>\n",
              "  </div>\n",
              "  "
            ]
          },
          "metadata": {},
          "execution_count": 7
        }
      ]
    },
    {
      "cell_type": "code",
      "source": [
        "### Checking shape of dataset.\n",
        "df.shape\n",
        "### Checking basic information of dataset\n",
        "df.info()\n",
        "### Checking no. of null values in dataset\n",
        "df.isnull().sum()\n",
        "### Checking head part of dataset\n",
        "df.head(50)\n",
        "### Checking tail part of dataset\n",
        "df.tail(50)\n",
        "### Droping Nan values from dataset\n",
        "df = df.dropna()\n",
        "df = df.reset_index(drop=True)\n",
        "df.shape\n",
        "### Checking no. of authors of group\n",
        "df['Author'].nunique()\n",
        "### Checking authors of group\n",
        "df['Author'].unique()"
      ],
      "metadata": {
        "colab": {
          "base_uri": "https://localhost:8080/"
        },
        "id": "5TnDDkTHg0Sg",
        "outputId": "a84a2024-cc48-42eb-db52-0fbfec019213"
      },
      "execution_count": 8,
      "outputs": [
        {
          "output_type": "stream",
          "name": "stdout",
          "text": [
            "<class 'pandas.core.frame.DataFrame'>\n",
            "RangeIndex: 19076 entries, 0 to 19075\n",
            "Data columns (total 4 columns):\n",
            " #   Column   Non-Null Count  Dtype         \n",
            "---  ------   --------------  -----         \n",
            " 0   Date     19076 non-null  datetime64[ns]\n",
            " 1   Time     19076 non-null  object        \n",
            " 2   Author   18798 non-null  object        \n",
            " 3   Message  19076 non-null  object        \n",
            "dtypes: datetime64[ns](1), object(3)\n",
            "memory usage: 596.2+ KB\n"
          ]
        },
        {
          "output_type": "execute_result",
          "data": {
            "text/plain": [
              "array(['Anand Tiwari', 'Vasaikar', 'Mihir Thakur (VCET)',\n",
              "       'Siddharth(Vcet)', 'Ajay', 'Salman', 'Parag', 'Sandesh',\n",
              "       'Siddharth Vartha 2'], dtype=object)"
            ]
          },
          "metadata": {},
          "execution_count": 8
        }
      ]
    },
    {
      "cell_type": "code",
      "source": [
        "### Adding one more column of \"Day\" for better analysis, here we use datetime library which help us to do this task easily.\n",
        "weeks = {\n",
        "0 : 'Monday',\n",
        "1 : 'Tuesday',\n",
        "2 : 'Wednesday',\n",
        "3 : 'Thrusday',\n",
        "4 : 'Friday',\n",
        "5 : 'Saturday',\n",
        "6 : 'Sunday'\n",
        "}\n",
        "df['Day'] = df['Date'].dt.weekday.map(weeks)\n",
        "### Rearranging the columns for better understanding\n",
        "df = df[['Date','Day','Time','Author','Message']]\n",
        "### Changing the datatype of column \"Day\".\n",
        "df['Day'] = df['Day'].astype('category')\n",
        "### Looking newborn dataset.\n",
        "df.head()\n",
        "### Counting number of letters in each message\n",
        "df['Letters'] = df['Message'].apply(lambda s : len(s))\n",
        "### Counting number of word's in each message\n",
        "df['Words'] = df['Message'].apply(lambda s : len(s.split(' ')))\n",
        "### Function to count number of links in dataset, it will add extra column and store information in it.\n",
        "URLPATTERN = r'(https?://S+)'\n",
        "df['Url_Count'] = df.Message.apply(lambda x: re.findall(URLPATTERN, x)).str.len()\n",
        "links = np.sum(df.Url_Count)\n",
        "### Function to count number of media in chat.\n",
        "MEDIAPATTERN = r'<Media omitted>'\n",
        "df['Media_Count'] = df.Message.apply(lambda x : re.findall(MEDIAPATTERN, x)).str.len()\n",
        "media = np.sum(df.Media_Count)\n",
        "### Looking updated dataset\n",
        "df"
      ],
      "metadata": {
        "colab": {
          "base_uri": "https://localhost:8080/",
          "height": 423
        },
        "id": "GyIPQi12oCKp",
        "outputId": "2c92a22a-11ac-411b-c638-c99d3eac0559"
      },
      "execution_count": 9,
      "outputs": [
        {
          "output_type": "execute_result",
          "data": {
            "text/plain": [
              "            Date      Day      Time               Author  \\\n",
              "0     2020-05-12  Tuesday   2:06 pm         Anand Tiwari   \n",
              "1     2020-05-12  Tuesday   2:07 pm             Vasaikar   \n",
              "2     2020-05-12  Tuesday   2:15 pm         Anand Tiwari   \n",
              "3     2020-05-12  Tuesday   2:16 pm         Anand Tiwari   \n",
              "4     2020-05-12  Tuesday   2:16 pm  Mihir Thakur (VCET)   \n",
              "...          ...      ...       ...                  ...   \n",
              "18793 2022-04-17   Sunday  12:18 pm         Anand Tiwari   \n",
              "18794 2022-04-17   Sunday  12:18 pm             Vasaikar   \n",
              "18795 2022-04-17   Sunday   1:00 pm                Parag   \n",
              "18796 2022-04-17   Sunday   1:02 pm               Salman   \n",
              "18797 2022-04-17   Sunday   1:04 pm                Parag   \n",
              "\n",
              "                            Message  Letters  Words  Url_Count  Media_Count  \n",
              "0                               Hey        3      1          0            0  \n",
              "1                             Hello        5      1          0            0  \n",
              "2      Mera WhatsApp he ud Gaya tha       28      6          0            0  \n",
              "3                  Backup b nai tha       16      4          0            0  \n",
              "4                               Lol        3      1          0            0  \n",
              "...                             ...      ...    ...        ...          ...  \n",
              "18793                    fook u too       10      3          0            0  \n",
              "18794                      Fook you        8      2          0            0  \n",
              "18795               <Media omitted>       15      2          0            1  \n",
              "18796               <Media omitted>       15      2          0            1  \n",
              "18797               <Media omitted>       15      2          0            1  \n",
              "\n",
              "[18798 rows x 9 columns]"
            ],
            "text/html": [
              "\n",
              "  <div id=\"df-2bca835c-0b51-4d0b-bd4b-aef1d574495c\">\n",
              "    <div class=\"colab-df-container\">\n",
              "      <div>\n",
              "<style scoped>\n",
              "    .dataframe tbody tr th:only-of-type {\n",
              "        vertical-align: middle;\n",
              "    }\n",
              "\n",
              "    .dataframe tbody tr th {\n",
              "        vertical-align: top;\n",
              "    }\n",
              "\n",
              "    .dataframe thead th {\n",
              "        text-align: right;\n",
              "    }\n",
              "</style>\n",
              "<table border=\"1\" class=\"dataframe\">\n",
              "  <thead>\n",
              "    <tr style=\"text-align: right;\">\n",
              "      <th></th>\n",
              "      <th>Date</th>\n",
              "      <th>Day</th>\n",
              "      <th>Time</th>\n",
              "      <th>Author</th>\n",
              "      <th>Message</th>\n",
              "      <th>Letters</th>\n",
              "      <th>Words</th>\n",
              "      <th>Url_Count</th>\n",
              "      <th>Media_Count</th>\n",
              "    </tr>\n",
              "  </thead>\n",
              "  <tbody>\n",
              "    <tr>\n",
              "      <th>0</th>\n",
              "      <td>2020-05-12</td>\n",
              "      <td>Tuesday</td>\n",
              "      <td>2:06 pm</td>\n",
              "      <td>Anand Tiwari</td>\n",
              "      <td>Hey</td>\n",
              "      <td>3</td>\n",
              "      <td>1</td>\n",
              "      <td>0</td>\n",
              "      <td>0</td>\n",
              "    </tr>\n",
              "    <tr>\n",
              "      <th>1</th>\n",
              "      <td>2020-05-12</td>\n",
              "      <td>Tuesday</td>\n",
              "      <td>2:07 pm</td>\n",
              "      <td>Vasaikar</td>\n",
              "      <td>Hello</td>\n",
              "      <td>5</td>\n",
              "      <td>1</td>\n",
              "      <td>0</td>\n",
              "      <td>0</td>\n",
              "    </tr>\n",
              "    <tr>\n",
              "      <th>2</th>\n",
              "      <td>2020-05-12</td>\n",
              "      <td>Tuesday</td>\n",
              "      <td>2:15 pm</td>\n",
              "      <td>Anand Tiwari</td>\n",
              "      <td>Mera WhatsApp he ud Gaya tha</td>\n",
              "      <td>28</td>\n",
              "      <td>6</td>\n",
              "      <td>0</td>\n",
              "      <td>0</td>\n",
              "    </tr>\n",
              "    <tr>\n",
              "      <th>3</th>\n",
              "      <td>2020-05-12</td>\n",
              "      <td>Tuesday</td>\n",
              "      <td>2:16 pm</td>\n",
              "      <td>Anand Tiwari</td>\n",
              "      <td>Backup b nai tha</td>\n",
              "      <td>16</td>\n",
              "      <td>4</td>\n",
              "      <td>0</td>\n",
              "      <td>0</td>\n",
              "    </tr>\n",
              "    <tr>\n",
              "      <th>4</th>\n",
              "      <td>2020-05-12</td>\n",
              "      <td>Tuesday</td>\n",
              "      <td>2:16 pm</td>\n",
              "      <td>Mihir Thakur (VCET)</td>\n",
              "      <td>Lol</td>\n",
              "      <td>3</td>\n",
              "      <td>1</td>\n",
              "      <td>0</td>\n",
              "      <td>0</td>\n",
              "    </tr>\n",
              "    <tr>\n",
              "      <th>...</th>\n",
              "      <td>...</td>\n",
              "      <td>...</td>\n",
              "      <td>...</td>\n",
              "      <td>...</td>\n",
              "      <td>...</td>\n",
              "      <td>...</td>\n",
              "      <td>...</td>\n",
              "      <td>...</td>\n",
              "      <td>...</td>\n",
              "    </tr>\n",
              "    <tr>\n",
              "      <th>18793</th>\n",
              "      <td>2022-04-17</td>\n",
              "      <td>Sunday</td>\n",
              "      <td>12:18 pm</td>\n",
              "      <td>Anand Tiwari</td>\n",
              "      <td>fook u too</td>\n",
              "      <td>10</td>\n",
              "      <td>3</td>\n",
              "      <td>0</td>\n",
              "      <td>0</td>\n",
              "    </tr>\n",
              "    <tr>\n",
              "      <th>18794</th>\n",
              "      <td>2022-04-17</td>\n",
              "      <td>Sunday</td>\n",
              "      <td>12:18 pm</td>\n",
              "      <td>Vasaikar</td>\n",
              "      <td>Fook you</td>\n",
              "      <td>8</td>\n",
              "      <td>2</td>\n",
              "      <td>0</td>\n",
              "      <td>0</td>\n",
              "    </tr>\n",
              "    <tr>\n",
              "      <th>18795</th>\n",
              "      <td>2022-04-17</td>\n",
              "      <td>Sunday</td>\n",
              "      <td>1:00 pm</td>\n",
              "      <td>Parag</td>\n",
              "      <td>&lt;Media omitted&gt;</td>\n",
              "      <td>15</td>\n",
              "      <td>2</td>\n",
              "      <td>0</td>\n",
              "      <td>1</td>\n",
              "    </tr>\n",
              "    <tr>\n",
              "      <th>18796</th>\n",
              "      <td>2022-04-17</td>\n",
              "      <td>Sunday</td>\n",
              "      <td>1:02 pm</td>\n",
              "      <td>Salman</td>\n",
              "      <td>&lt;Media omitted&gt;</td>\n",
              "      <td>15</td>\n",
              "      <td>2</td>\n",
              "      <td>0</td>\n",
              "      <td>1</td>\n",
              "    </tr>\n",
              "    <tr>\n",
              "      <th>18797</th>\n",
              "      <td>2022-04-17</td>\n",
              "      <td>Sunday</td>\n",
              "      <td>1:04 pm</td>\n",
              "      <td>Parag</td>\n",
              "      <td>&lt;Media omitted&gt;</td>\n",
              "      <td>15</td>\n",
              "      <td>2</td>\n",
              "      <td>0</td>\n",
              "      <td>1</td>\n",
              "    </tr>\n",
              "  </tbody>\n",
              "</table>\n",
              "<p>18798 rows × 9 columns</p>\n",
              "</div>\n",
              "      <button class=\"colab-df-convert\" onclick=\"convertToInteractive('df-2bca835c-0b51-4d0b-bd4b-aef1d574495c')\"\n",
              "              title=\"Convert this dataframe to an interactive table.\"\n",
              "              style=\"display:none;\">\n",
              "        \n",
              "  <svg xmlns=\"http://www.w3.org/2000/svg\" height=\"24px\"viewBox=\"0 0 24 24\"\n",
              "       width=\"24px\">\n",
              "    <path d=\"M0 0h24v24H0V0z\" fill=\"none\"/>\n",
              "    <path d=\"M18.56 5.44l.94 2.06.94-2.06 2.06-.94-2.06-.94-.94-2.06-.94 2.06-2.06.94zm-11 1L8.5 8.5l.94-2.06 2.06-.94-2.06-.94L8.5 2.5l-.94 2.06-2.06.94zm10 10l.94 2.06.94-2.06 2.06-.94-2.06-.94-.94-2.06-.94 2.06-2.06.94z\"/><path d=\"M17.41 7.96l-1.37-1.37c-.4-.4-.92-.59-1.43-.59-.52 0-1.04.2-1.43.59L10.3 9.45l-7.72 7.72c-.78.78-.78 2.05 0 2.83L4 21.41c.39.39.9.59 1.41.59.51 0 1.02-.2 1.41-.59l7.78-7.78 2.81-2.81c.8-.78.8-2.07 0-2.86zM5.41 20L4 18.59l7.72-7.72 1.47 1.35L5.41 20z\"/>\n",
              "  </svg>\n",
              "      </button>\n",
              "      \n",
              "  <style>\n",
              "    .colab-df-container {\n",
              "      display:flex;\n",
              "      flex-wrap:wrap;\n",
              "      gap: 12px;\n",
              "    }\n",
              "\n",
              "    .colab-df-convert {\n",
              "      background-color: #E8F0FE;\n",
              "      border: none;\n",
              "      border-radius: 50%;\n",
              "      cursor: pointer;\n",
              "      display: none;\n",
              "      fill: #1967D2;\n",
              "      height: 32px;\n",
              "      padding: 0 0 0 0;\n",
              "      width: 32px;\n",
              "    }\n",
              "\n",
              "    .colab-df-convert:hover {\n",
              "      background-color: #E2EBFA;\n",
              "      box-shadow: 0px 1px 2px rgba(60, 64, 67, 0.3), 0px 1px 3px 1px rgba(60, 64, 67, 0.15);\n",
              "      fill: #174EA6;\n",
              "    }\n",
              "\n",
              "    [theme=dark] .colab-df-convert {\n",
              "      background-color: #3B4455;\n",
              "      fill: #D2E3FC;\n",
              "    }\n",
              "\n",
              "    [theme=dark] .colab-df-convert:hover {\n",
              "      background-color: #434B5C;\n",
              "      box-shadow: 0px 1px 3px 1px rgba(0, 0, 0, 0.15);\n",
              "      filter: drop-shadow(0px 1px 2px rgba(0, 0, 0, 0.3));\n",
              "      fill: #FFFFFF;\n",
              "    }\n",
              "  </style>\n",
              "\n",
              "      <script>\n",
              "        const buttonEl =\n",
              "          document.querySelector('#df-2bca835c-0b51-4d0b-bd4b-aef1d574495c button.colab-df-convert');\n",
              "        buttonEl.style.display =\n",
              "          google.colab.kernel.accessAllowed ? 'block' : 'none';\n",
              "\n",
              "        async function convertToInteractive(key) {\n",
              "          const element = document.querySelector('#df-2bca835c-0b51-4d0b-bd4b-aef1d574495c');\n",
              "          const dataTable =\n",
              "            await google.colab.kernel.invokeFunction('convertToInteractive',\n",
              "                                                     [key], {});\n",
              "          if (!dataTable) return;\n",
              "\n",
              "          const docLinkHtml = 'Like what you see? Visit the ' +\n",
              "            '<a target=\"_blank\" href=https://colab.research.google.com/notebooks/data_table.ipynb>data table notebook</a>'\n",
              "            + ' to learn more about interactive tables.';\n",
              "          element.innerHTML = '';\n",
              "          dataTable['output_type'] = 'display_data';\n",
              "          await google.colab.output.renderOutput(dataTable, element);\n",
              "          const docLink = document.createElement('div');\n",
              "          docLink.innerHTML = docLinkHtml;\n",
              "          element.appendChild(docLink);\n",
              "        }\n",
              "      </script>\n",
              "    </div>\n",
              "  </div>\n",
              "  "
            ]
          },
          "metadata": {},
          "execution_count": 9
        }
      ]
    },
    {
      "cell_type": "code",
      "source": [
        "total_messages = df.shape[0]\n",
        "media_messages = df[df['Message'] == '<Media omitted>'].shape[0]\n",
        "links = np.sum(df.Url_Count)\n",
        "print('Group Chatting Stats : ')\n",
        "print('Total Number of Messages : {}'.format(total_messages))\n",
        "print('Total Number of Media Messages : {}'.format(media_messages))\n",
        "print('Total Number of Links : {}'.format(links))"
      ],
      "metadata": {
        "colab": {
          "base_uri": "https://localhost:8080/"
        },
        "id": "x-cct29ToQm3",
        "outputId": "6bbd40ac-cbb6-44f0-dcce-3c7b2bcbbb22"
      },
      "execution_count": 10,
      "outputs": [
        {
          "output_type": "stream",
          "name": "stdout",
          "text": [
            "Group Chatting Stats : \n",
            "Total Number of Messages : 18798\n",
            "Total Number of Media Messages : 1809\n",
            "Total Number of Links : 0\n"
          ]
        }
      ]
    },
    {
      "cell_type": "code",
      "source": [
        "l = df.Author.unique()\n",
        "for i in range(len(l)):\n",
        "  ### Filtering out messages of particular user\n",
        "  req_df = df[df[\"Author\"] == l[i]]\n",
        "  ### req_df will contain messages of only one particular user\n",
        "  print(f'--> Stats of {l[i]} <-- ')\n",
        "  ### shape will print number of rows which indirectly means the number of messages\n",
        "  print('Total Message Sent : ', req_df.shape[0])\n",
        "  ### Word_Count contains of total words in one message. Sum of all words/ Total Messages will yield words per message\n",
        "  words_per_message = (np.sum(req_df['Words']))/req_df.shape[0]\n",
        "  w_p_m = (\"%.3f\" % round(words_per_message, 2))  \n",
        "  print('Average Words per Message : ', w_p_m)\n",
        "  ### media conists of media messages\n",
        "  media = sum(req_df[\"Media_Count\"])\n",
        "  print('Total Media Message Sent : ', media)\n",
        "  ### links consist of total links\n",
        "  links = sum(req_df[\"Url_Count\"])   \n",
        "  print('Total Links Sent : ', links)   \n",
        "  print()\n",
        "  print('----------------------------------------------------------n')"
      ],
      "metadata": {
        "id": "r83imcIQopJd",
        "colab": {
          "base_uri": "https://localhost:8080/"
        },
        "outputId": "83fa6dc6-efc3-4f0e-f34a-5ed01da81837"
      },
      "execution_count": 18,
      "outputs": [
        {
          "output_type": "stream",
          "name": "stdout",
          "text": [
            "--> Stats of Anand Tiwari <-- \n",
            "Total Message Sent :  4193\n",
            "Average Words per Message :  3.830\n",
            "Total Media Message Sent :  387\n",
            "Total Links Sent :  0\n",
            "\n",
            "----------------------------------------------------------n\n",
            "--> Stats of Vasaikar <-- \n",
            "Total Message Sent :  3087\n",
            "Average Words per Message :  6.300\n",
            "Total Media Message Sent :  335\n",
            "Total Links Sent :  0\n",
            "\n",
            "----------------------------------------------------------n\n",
            "--> Stats of Mihir Thakur (VCET) <-- \n",
            "Total Message Sent :  2625\n",
            "Average Words per Message :  3.800\n",
            "Total Media Message Sent :  111\n",
            "Total Links Sent :  0\n",
            "\n",
            "----------------------------------------------------------n\n",
            "--> Stats of Siddharth(Vcet) <-- \n",
            "Total Message Sent :  1693\n",
            "Average Words per Message :  4.410\n",
            "Total Media Message Sent :  141\n",
            "Total Links Sent :  0\n",
            "\n",
            "----------------------------------------------------------n\n",
            "--> Stats of Ajay <-- \n",
            "Total Message Sent :  1863\n",
            "Average Words per Message :  5.860\n",
            "Total Media Message Sent :  141\n",
            "Total Links Sent :  0\n",
            "\n",
            "----------------------------------------------------------n\n",
            "--> Stats of Salman <-- \n",
            "Total Message Sent :  4146\n",
            "Average Words per Message :  3.040\n",
            "Total Media Message Sent :  477\n",
            "Total Links Sent :  0\n",
            "\n",
            "----------------------------------------------------------n\n",
            "--> Stats of Parag <-- \n",
            "Total Message Sent :  359\n",
            "Average Words per Message :  3.250\n",
            "Total Media Message Sent :  50\n",
            "Total Links Sent :  0\n",
            "\n",
            "----------------------------------------------------------n\n",
            "--> Stats of Sandesh <-- \n",
            "Total Message Sent :  65\n",
            "Average Words per Message :  3.060\n",
            "Total Media Message Sent :  29\n",
            "Total Links Sent :  0\n",
            "\n",
            "----------------------------------------------------------n\n",
            "--> Stats of Siddharth Vartha 2 <-- \n",
            "Total Message Sent :  767\n",
            "Average Words per Message :  4.010\n",
            "Total Media Message Sent :  138\n",
            "Total Links Sent :  0\n",
            "\n",
            "----------------------------------------------------------n\n"
          ]
        }
      ]
    },
    {
      "cell_type": "code",
      "source": [
        "### Word Cloud of mostly used word in our Group\n",
        "text = \" \".join(review for review in df.Message)\n",
        "wordcloud = WordCloud(stopwords=STOPWORDS, background_color=\"white\").generate(text)\n",
        "  ### Display the generated image:\n",
        "plt.figure( figsize=(10,5))\n",
        "plt.imshow(wordcloud, interpolation='bilinear')\n",
        "plt.axis(\"off\")\n",
        "plt.show()"
      ],
      "metadata": {
        "id": "7aqH9iHWpIy-"
      },
      "execution_count": null,
      "outputs": []
    },
    {
      "cell_type": "code",
      "source": [
        "### Creates a list of unique Authors\n",
        "l = df.Author.unique()\n",
        "for i in range(len(l)):\n",
        "  ### Filtering out messages of particular user\n",
        "  req_df = df[df[\"Author\"] == l[i]]\n",
        "  ### req_df will contain messages of only one particular user\n",
        "  print(l[i],'  ->  ',req_df.shape[0])\n",
        "#Let’s print total messages sent on each day of the week : \n",
        "l = df.Day.unique()\n",
        "for i in range(len(l)):\n",
        "  ### Filtering out messages of particular user\n",
        "  req_df = df[df[\"Day\"] == l[i]]\n",
        "  ### req_df will contain messages of only one particular user\n",
        "  print(l[i],'  ->  ',req_df.shape[0])"
      ],
      "metadata": {
        "id": "IG3PwG4OpT8l",
        "colab": {
          "base_uri": "https://localhost:8080/"
        },
        "outputId": "31cd4a90-3f44-4f58-82df-80797fa9dcaa"
      },
      "execution_count": 12,
      "outputs": [
        {
          "output_type": "stream",
          "name": "stdout",
          "text": [
            "Anand Tiwari   ->   4193\n",
            "Vasaikar   ->   3087\n",
            "Mihir Thakur (VCET)   ->   2625\n",
            "Siddharth(Vcet)   ->   1693\n",
            "Ajay   ->   1863\n",
            "Salman   ->   4146\n",
            "Parag   ->   359\n",
            "Sandesh   ->   65\n",
            "Siddharth Vartha 2   ->   767\n",
            "Tuesday   ->   3478\n",
            "Friday   ->   2932\n",
            "Sunday   ->   2260\n",
            "Wednesday   ->   2604\n",
            "Monday   ->   2185\n",
            "Thrusday   ->   2909\n",
            "Saturday   ->   2430\n"
          ]
        }
      ]
    },
    {
      "cell_type": "code",
      "source": [
        "### Mostly Active Author in the Group\n",
        "plt.figure(figsize=(9,6))\n",
        "mostly_active = df['Author'].value_counts()\n",
        "### Top 10 peoples that are mostly active in our Group is : \n",
        "m_a = mostly_active.head(10)\n",
        "bars = df.Author.unique()\n",
        "x_pos = np.arange(len(bars))\n",
        "m_a.plot.bar()\n",
        "plt.xlabel('Authors',fontdict={'fontsize': 14,'fontweight': 10})\n",
        "plt.ylabel('No. of messages',fontdict={'fontsize': 14,'fontweight': 10})\n",
        "plt.title('Mostly active member of Group',fontdict={'fontsize': 20,'fontweight': 8})\n",
        "plt.xticks(x_pos, bars)\n",
        "plt.show()"
      ],
      "metadata": {
        "colab": {
          "base_uri": "https://localhost:8080/",
          "height": 502
        },
        "id": "OCdyB2DSpk5r",
        "outputId": "e6d0af2a-117a-4f94-93af-be974f4c1596"
      },
      "execution_count": 13,
      "outputs": [
        {
          "output_type": "display_data",
          "data": {
            "text/plain": [
              "<Figure size 648x432 with 1 Axes>"
            ],
            "image/png": "[encoded data removed]"
          },
          "metadata": {
            "needs_background": "light"
          }
        }
      ]
    },
    {
      "cell_type": "code",
      "source": [
        "### Mostly Active day in the Group\n",
        "plt.figure(figsize=(8,5))\n",
        "active_day = df['Day'].value_counts()\n",
        "### Top 10 peoples that are mostly active in our Group is : \n",
        "a_d = active_day.head(10)\n",
        "a_d.plot.bar()\n",
        "plt.xlabel('Day',fontdict={'fontsize': 12,'fontweight': 10})\n",
        "plt.ylabel('No. of messages',fontdict={'fontsize': 12,'fontweight': 10})\n",
        "plt.title('Mostly active day of Week in the Group',fontdict={'fontsize': 18,'fontweight': 8})\n",
        "plt.show()"
      ],
      "metadata": {
        "colab": {
          "base_uri": "https://localhost:8080/",
          "height": 405
        },
        "id": "6uPhNErQpsLN",
        "outputId": "851807f6-728e-47df-cba7-4b1ec593d734"
      },
      "execution_count": 14,
      "outputs": [
        {
          "output_type": "display_data",
          "data": {
            "text/plain": [
              "<Figure size 576x360 with 1 Axes>"
            ],
            "image/png": "[encoded data removed]"
          },
          "metadata": {
            "needs_background": "light"
          }
        }
      ]
    },
    {
      "cell_type": "code",
      "source": [
        "### Top-10 Media Contributor of Group\n",
        "mm = df[df['Message'] == '<Media omitted>']\n",
        "mm1 = mm['Author'].value_counts()\n",
        "bars = df.Author.unique()\n",
        "x_pos = np.arange(len(bars))\n",
        "top10 = mm1.head(10)\n",
        "top10.plot.bar()\n",
        "plt.xlabel('Author`s',fontdict={'fontsize': 12,'fontweight': 10})\n",
        "plt.ylabel('No. of media',fontdict={'fontsize': 12,'fontweight': 10})\n",
        "plt.title('Top-10 media contributor of Group',fontdict={'fontsize': 18,'fontweight': 8})\n",
        "plt.xticks(x_pos, bars)\n",
        "plt.show()"
      ],
      "metadata": {
        "colab": {
          "base_uri": "https://localhost:8080/",
          "height": 392
        },
        "id": "V5y_zCuJp51y",
        "outputId": "6b6e7169-2556-4c5b-c629-de5affb650ae"
      },
      "execution_count": 15,
      "outputs": [
        {
          "output_type": "display_data",
          "data": {
            "text/plain": [
              "<Figure size 432x288 with 1 Axes>"
            ],
            "image/png": "[encoded data removed]"
          },
          "metadata": {
            "needs_background": "light"
          }
        }
      ]
    },
    {
      "cell_type": "code",
      "source": [
        "max_words = df[['Author','Words']].groupby('Author').sum()\n",
        "m_w = max_words.sort_values(\"Words\",ascending=False).head(10)\n",
        "bars = df.Author.unique()\n",
        "x_pos = np.arange(len(bars))\n",
        "m_w.plot.bar(rot=90)\n",
        "plt.xlabel('Author')\n",
        "plt.ylabel('No. of words')\n",
        "plt.title('Analysis of members who has used max. no. of words in his/her messages')\n",
        "plt.xticks(x_pos, bars)\n",
        "plt.show()"
      ],
      "metadata": {
        "colab": {
          "base_uri": "https://localhost:8080/",
          "height": 385
        },
        "id": "qWUd5LmqqBma",
        "outputId": "2da12a82-0d1e-4972-8c79-266041ba8166"
      },
      "execution_count": 16,
      "outputs": [
        {
          "output_type": "display_data",
          "data": {
            "text/plain": [
              "<Figure size 432x288 with 1 Axes>"
            ],
            "image/png": "[encoded data removed]"
          },
          "metadata": {
            "needs_background": "light"
          }
        }
      ]
    },
    {
      "cell_type": "code",
      "source": [
        "### Time whenever our group is highly active\n",
        "plt.figure(figsize=(8,5))\n",
        "t = df['Time'].value_counts().head(20)\n",
        "tx = t.plot.bar()\n",
        "tx.yaxis.set_major_locator(MaxNLocator(integer=True))  #Converting y axis data to integer\n",
        "plt.xlabel('Time',fontdict={'fontsize': 12,'fontweight': 10})\n",
        "plt.ylabel('No. of messages',fontdict={'fontsize': 12,'fontweight': 10})\n",
        "plt.title('Analysis of time when Group was highly active.',fontdict={'fontsize': 18,'fontweight': 8})\n",
        "plt.show()"
      ],
      "metadata": {
        "colab": {
          "base_uri": "https://localhost:8080/",
          "height": 394
        },
        "id": "zJ6XhOyeqKWz",
        "outputId": "747bb236-f981-42c3-8d92-3d3d638d8d1e"
      },
      "execution_count": 17,
      "outputs": [
        {
          "output_type": "display_data",
          "data": {
            "text/plain": [
              "<Figure size 576x360 with 1 Axes>"
            ],
            "image/png": "[encoded data removed]"
          },
          "metadata": {
            "needs_background": "light"
          }
        }
      ]
    },
    {
      "cell_type": "code",
      "source": [
        ""
      ],
      "metadata": {
        "id": "XndiW3HjAtIH"
      },
      "execution_count": null,
      "outputs": []
    }
  ]
}